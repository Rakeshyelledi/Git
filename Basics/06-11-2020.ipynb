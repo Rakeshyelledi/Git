{
 "cells": [
  {
   "cell_type": "markdown",
   "metadata": {},
   "source": [
    "# Good Morning to All"
   ]
  },
  {
   "cell_type": "markdown",
   "metadata": {},
   "source": [
    "```\n",
    "   -> Git Installations\n",
    "   -> Creation of Github Profile\n",
    "```"
   ]
  },
  {
   "cell_type": "code",
   "execution_count": null,
   "metadata": {},
   "outputs": [],
   "source": [
    "rakeshyelledi@gmail.com\n",
    "\n",
    "\n",
    " -> Local -> Github:\n",
    "        \n",
    "        Online Github: \n",
    "            -> repository Create(folder)\n",
    "            -> repository url copy\n",
    "            \n",
    "        Git bash\n",
    "            -> folder(folder location)\n",
    "            -> right click -> git bash\n",
    "            -> git init => master\n",
    "            ->"
   ]
  }
 ],
 "metadata": {
  "kernelspec": {
   "display_name": "Python 3",
   "language": "python",
   "name": "python3"
  },
  "language_info": {
   "codemirror_mode": {
    "name": "ipython",
    "version": 3
   },
   "file_extension": ".py",
   "mimetype": "text/x-python",
   "name": "python",
   "nbconvert_exporter": "python",
   "pygments_lexer": "ipython3",
   "version": "3.7.3"
  }
 },
 "nbformat": 4,
 "nbformat_minor": 2
}
